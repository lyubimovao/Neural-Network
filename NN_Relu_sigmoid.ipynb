{
 "cells": [
  {
   "cell_type": "code",
   "execution_count": 1,
   "metadata": {},
   "outputs": [],
   "source": [
    "import numpy as np\n",
    "from sklearn.datasets import make_classification\n",
    "from sklearn.model_selection import train_test_split\n",
    "from utils import *\n",
    "import matplotlib.pyplot as plt\n",
    "from matplotlib.colors import ListedColormap\n",
    "from sklearn.preprocessing import StandardScaler\n",
    "from sklearn import datasets, metrics"
   ]
  },
  {
   "cell_type": "code",
   "execution_count": 2,
   "metadata": {},
   "outputs": [],
   "source": [
    "def L_layer_model(X, Y, layers_dims, learning_rate, num_iterations = 3000, print_cost=True):\n",
    "    \"\"\"\n",
    "    Implements a L-layer neural network: [LINEAR->RELU]*(L-1)->LINEAR->SIGMOID.\n",
    "    \n",
    "    Arguments:\n",
    "    X -- data, numpy array of shape (num_px * num_px * 3, number of examples)\n",
    "    Y -- true \"label\" vector \n",
    "    layers_dims -- list containing the input size and each layer size, of length (number of layers + 1).\n",
    "    learning_rate -- learning rate of the gradient descent update rule\n",
    "    num_iterations -- number of iterations of the optimization loop\n",
    "    print_cost -- if True, it prints the cost every 100 steps\n",
    "    \n",
    "    Returns:\n",
    "    parameters -- parameters learnt by the model. They can then be used to predict.\n",
    "    initialize_parameters_deep, compute_cost, update_parameters are loaded from utils\n",
    "    \n",
    "    \"\"\"\n",
    "    \n",
    "    np.random.seed(1)\n",
    "    costs = []                         # keep track of cost\n",
    "    \n",
    "    # Parameters initialization.\n",
    "    \n",
    "    parameters = initialize_parameters_deep(layers_dims)\n",
    "    \n",
    "    # Loop (gradient descent)\n",
    "    for i in range(0, num_iterations):\n",
    "\n",
    "        # Forward propagation: [LINEAR -> RELU]*(L-1) -> LINEAR -> SIGMOID.\n",
    "        \n",
    "        AL, caches = L_model_forward(X, parameters)\n",
    "        \n",
    "        # Compute cost.\n",
    "\n",
    "        cost = compute_cost(AL, Y)\n",
    "        \n",
    "        # Backward propagation.\n",
    "        \n",
    "        grads = L_model_backward(AL, Y, caches)\n",
    "        \n",
    "        # Update parameters.\n",
    "        \n",
    "        parameters = update_parameters(parameters, grads, learning_rate)\n",
    "        \n",
    "        # Print the cost every 100 iterations\n",
    "        if print_cost and i % 100 == 0 or i == num_iterations - 1:\n",
    "            print(\"Cost after iteration {}: {}\".format(i, np.squeeze(cost)))\n",
    "        if i % 100 == 0 or i == num_iterations:\n",
    "            costs.append(cost)\n",
    "    \n",
    "    return parameters, costs"
   ]
  },
  {
   "cell_type": "code",
   "execution_count": 3,
   "metadata": {},
   "outputs": [
    {
     "data": {
      "image/png": "[encoded data removed]",
      "text/plain": [
       "<Figure size 720x216 with 4 Axes>"
      ]
     },
     "metadata": {
      "needs_background": "light"
     },
     "output_type": "display_data"
    }
   ],
   "source": [
    "digits = datasets.load_digits()\n",
    "\n",
    "_, axes = plt.subplots(nrows=1, ncols=4, figsize=(10, 3))\n",
    "for ax, image, label in zip(axes, digits.images, digits.target):\n",
    "    ax.set_axis_off()\n",
    "    ax.imshow(image, cmap=plt.cm.gray_r, interpolation=\"nearest\")\n",
    "    ax.set_title(\"Training: %i\" % label)\n"
   ]
  },
  {
   "cell_type": "code",
   "execution_count": 4,
   "metadata": {},
   "outputs": [],
   "source": [
    "# flatten the images\n",
    "n_samples = len(digits.images)\n",
    "data = digits.images.reshape((n_samples, -1))\n",
    "\n",
    "# Split data into 50% train and 50% test subsets\n",
    "X_train, X_test, y_train, y_test = train_test_split(\n",
    "    data, digits.target, test_size=0.4, shuffle=False\n",
    ")\n"
   ]
  },
  {
   "cell_type": "code",
   "execution_count": 5,
   "metadata": {},
   "outputs": [
    {
     "name": "stdout",
     "output_type": "stream",
     "text": [
      "(10, 1078)\n",
      "(64, 1078)\n"
     ]
    }
   ],
   "source": [
    "\n",
    "m = len(y_train)\n",
    "num_labels = 10\n",
    "\n",
    "y_one_hot = np.zeros((num_labels,m))\n",
    "\n",
    "\n",
    "for i in range(m):\n",
    "    \n",
    "    ind=y_train[i]\n",
    "    y_one_hot[ind,i] = 1\n",
    "\n",
    "Y = y_one_hot\n",
    "X_scaled = X_train/16.\n",
    "X = X_scaled.T\n",
    "\n",
    "print(Y.shape)\n",
    "print(X.shape)\n"
   ]
  },
  {
   "cell_type": "code",
   "execution_count": 6,
   "metadata": {},
   "outputs": [],
   "source": [
    "layers_dims = [64, 25, 10] #  L-layer model"
   ]
  },
  {
   "cell_type": "code",
   "execution_count": 13,
   "metadata": {},
   "outputs": [
    {
     "name": "stdout",
     "output_type": "stream",
     "text": [
      "Cost after iteration 0: 7.381834214087141\n",
      "Cost after iteration 100: 0.9068161101662283\n",
      "Cost after iteration 200: 0.484468193485973\n",
      "Cost after iteration 300: 0.3464743975204495\n",
      "Cost after iteration 400: 0.2740391147216142\n",
      "Cost after iteration 500: 0.2262265749822302\n",
      "Cost after iteration 600: 0.19183240318645162\n",
      "Cost after iteration 700: 0.1661298576617718\n",
      "Cost after iteration 800: 0.14638475484861838\n",
      "Cost after iteration 900: 0.1307887209591968\n",
      "Cost after iteration 1000: 0.11797009291173949\n",
      "Cost after iteration 1100: 0.10715797985683839\n",
      "Cost after iteration 1200: 0.09784756985232292\n",
      "Cost after iteration 1300: 0.0897181385755805\n",
      "Cost after iteration 1400: 0.08250541185455224\n",
      "Cost after iteration 1500: 0.07603501103664126\n",
      "Cost after iteration 1600: 0.07026639329576387\n",
      "Cost after iteration 1700: 0.06510440660093826\n",
      "Cost after iteration 1800: 0.06047954368907068\n",
      "Cost after iteration 1900: 0.05626436588867452\n",
      "Cost after iteration 1999: 0.05241021770605631\n"
     ]
    }
   ],
   "source": [
    "parameters, costs = L_layer_model(X, Y, layers_dims, learning_rate = 0.2, num_iterations = 2000, print_cost = True)\n"
   ]
  },
  {
   "cell_type": "code",
   "execution_count": 14,
   "metadata": {},
   "outputs": [
    {
     "name": "stdout",
     "output_type": "stream",
     "text": [
      "Number of mislabeled images:  2\n",
      "Accuracy: 99.72\n",
      "List of mislabeled images:  [475, 580]\n",
      "List of mislabeled images:  [475, 580]\n"
     ]
    }
   ],
   "source": [
    "predicted_labels, listofi = predict(X, Y, parameters)\n",
    "print('List of mislabeled images: ', listofi)\n"
   ]
  },
  {
   "cell_type": "code",
   "execution_count": 15,
   "metadata": {},
   "outputs": [],
   "source": [
    "classes = ['Zero', 'One', 'Two', 'Three', 'Four', 'Five', 'Six', 'Seven', 'Eight', 'Nine']"
   ]
  },
  {
   "cell_type": "code",
   "execution_count": 19,
   "metadata": {},
   "outputs": [
    {
     "data": {
      "image/png": "[encoded data removed]",
      "text/plain": [
       "<Figure size 1080x216 with 2 Axes>"
      ]
     },
     "metadata": {
      "needs_background": "light"
     },
     "output_type": "display_data"
    }
   ],
   "source": [
    "_, axes = plt.subplots(nrows=1, ncols=2, figsize=(15, 3))\n",
    "for ax, i in zip(axes, listofi):\n",
    "    ax.set_axis_off()\n",
    "    ax.imshow(X[:,i].reshape(8,8), cmap=plt.cm.gray_r, interpolation=\"nearest\")\n",
    "    ax.set_title(\"Prediction: \" + classes[np.argmax(predicted_labels[:,i])] + \" \\n Class: \" + classes[np.argmax(Y[:,i])])\n"
   ]
  },
  {
   "cell_type": "code",
   "execution_count": 17,
   "metadata": {},
   "outputs": [
    {
     "name": "stdout",
     "output_type": "stream",
     "text": [
      "(10, 719)\n",
      "(64, 719)\n"
     ]
    }
   ],
   "source": [
    "m = len(y_test)\n",
    "num_labels = 10\n",
    "\n",
    "y_one_hot = np.zeros((num_labels,m))\n",
    "\n",
    "\n",
    "for i in range(m):\n",
    "    \n",
    "    ind=y_test[i]\n",
    "    y_one_hot[ind,i] = 1\n",
    "\n",
    "Y = y_one_hot\n",
    "X_scaled = X_test/16.\n",
    "X = X_scaled.T\n",
    "\n",
    "print(Y.shape)\n",
    "print(X.shape)\n"
   ]
  },
  {
   "cell_type": "code",
   "execution_count": 18,
   "metadata": {},
   "outputs": [
    {
     "name": "stdout",
     "output_type": "stream",
     "text": [
      "Number of mislabeled images:  2\n",
      "Accuracy: 99.72\n",
      "List of mislabeled images:  [475, 580]\n"
     ]
    }
   ],
   "source": [
    "predicted_labels, listofi = predict(X, Y, parameters)"
   ]
  },
  {
   "cell_type": "code",
   "execution_count": null,
   "metadata": {},
   "outputs": [],
   "source": []
  }
 ],
 "metadata": {
  "kernelspec": {
   "display_name": "Python 3",
   "language": "python",
   "name": "python3"
  },
  "language_info": {
   "codemirror_mode": {
    "name": "ipython",
    "version": 3
   },
   "file_extension": ".py",
   "mimetype": "text/x-python",
   "name": "python",
   "nbconvert_exporter": "python",
   "pygments_lexer": "ipython3",
   "version": "3.7.3"
  }
 },
 "nbformat": 4,
 "nbformat_minor": 2
}
